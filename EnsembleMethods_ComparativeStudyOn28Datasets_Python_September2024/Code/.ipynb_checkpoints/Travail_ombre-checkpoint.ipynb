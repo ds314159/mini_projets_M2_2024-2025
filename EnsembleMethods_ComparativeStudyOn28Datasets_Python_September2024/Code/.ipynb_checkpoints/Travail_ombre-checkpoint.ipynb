{
 "cells": [
  {
   "cell_type": "code",
   "execution_count": 1,
   "id": "9a1f9360-187a-4db5-bdbc-0bdcda8f011f",
   "metadata": {},
   "source": [
    "import pandas as pd\n",
    "import numpy as np\n",
    "import matplotlib.pyplot as plt\n",
    "import seaborn as sns\n",
    "from prepdata import *\n",
    "\n"
   ],
   "outputs": []
  },
  {
   "cell_type": "code",
   "execution_count": 2,
   "id": "ae243102-f139-466b-9982-135661dc6c11",
   "metadata": {},
   "source": [
    "\n",
    "def process_and_check_data(X, y):\n",
    "    # Conversion des features (X) et des labels (y) en DataFrame\n",
    "    df_X = pd.DataFrame(X, columns=[f'feature_{i}' for i in range(X.shape[1])])\n",
    "    df_y = pd.DataFrame(y, columns=['target'])\n",
    "\n",
    "    # Combiner X et y dans un seul DataFrame\n",
    "    data = pd.concat([df_X, df_y], axis=1)\n",
    "\n",
    "    # Afficher les premières lignes du DataFrame\n",
    "    print(\"Premières lignes du dataset :\")\n",
    "    print(data.head())\n",
    "\n",
    "    # Vérification des types de données\n",
    "    print(\"\\nTypes de données par colonne :\")\n",
    "    print(data.dtypes)\n",
    "\n",
    "    # Vérifier les valeurs manquantes\n",
    "    print(\"\\nValeurs manquantes par colonne :\")\n",
    "    print(data.isnull().sum())\n",
    "\n",
    "    # Ratio des classes dans la variable cible\n",
    "    print(\"\\nRatio des classes dans la variable cible :\")\n",
    "    print(data['target'].value_counts(normalize=True))\n",
    "\n",
    "    # Vérification des doublons\n",
    "    print(f\"\\nNombre de doublons : {data.duplicated().sum()}\")\n",
    "\n",
    "    # Statistiques descriptives pour les features\n",
    "    print(\"\\nStatistiques descriptives des features :\")\n",
    "    print(df_X.describe())\n",
    "\n"
   ],
   "outputs": []
  },
  {
   "cell_type": "code",
   "execution_count": 4,
   "id": "de4a23b4-97e8-4007-84b8-8b8a501e2f1c",
   "metadata": {},
   "source": [
    "# Exemple d'utilisation avec la sortie de data_recovery\n",
    "\n",
    "X_abalone8, y_abalone8 = data_recovery(\"abalone8\") \n",
    "process_and_check_data(X_abalone8, y_abalone8)\n"
   ],
   "outputs": []
  },
  {
   "cell_type": "code",
   "execution_count": 6,
   "id": "3093b5a8-3a25-44f6-8283-ed730ad5fd07",
   "metadata": {},
   "source": [
    "# Charger et vérifier plusieurs datasets\n",
    "\n",
    "# Assumer que data_recovery et process_and_check_data sont déjà définies\n",
    "\n",
    "# Liste des datasets à charger et vérifier\n",
    "datasets = [\n",
    "    'abalone8', 'abalone17', 'abalone20', 'autompg', 'australian', 'balance', \n",
    "    'bankmarketing', 'bupa', 'german', 'glass', 'hayes', 'heart', 'iono', \n",
    "    'libras', 'newthyroid', 'pageblocks', 'pima', 'satimage', 'segmentation', \n",
    "    'sonar', 'spambase', 'splice', 'vehicle', 'wdbc', 'wine', 'wine4', \n",
    "    'yeast3', 'yeast6'\n",
    "]\n",
    "\n",
    "# Boucle sur chaque dataset\n",
    "for dataset in datasets:\n",
    "    print(f\"\\n=== Vérification du dataset : {dataset} ===\")\n",
    "    \n",
    "    # Charger les données avec data_recovery\n",
    "    X, y = data_recovery(dataset)\n",
    "    \n",
    "    # Vérifier et afficher les informations sur les données\n",
    "    process_and_check_data(X, y)\n"
   ],
   "outputs": []
  },
  {
   "cell_type": "markdown",
   "id": "1ef2663c-1a53-4ce2-b538-0ceb987c3ca0",
   "metadata": {},
   "source": [
    "Points qui attirent l'attention :\n",
    "\n",
    "- Déséquilibre des classes : Plusieurs datasets montrent un déséquilibre important dans les classes cibles (par exemple, abalone8, abalone17, balance, hayes). Cela pourrait affecter les performances des modèles de classification si des ajustements ne sont pas faits, comme l'utilisation de techniques de sampling (sur/sous-échantillonnage) ou de méthodes sensibles au coût.\n",
    "\n",
    "- Doublons : Certains datasets, comme bupa ou segmentation, contiennent des doublons. Cela peut biaiser les résultats et fausser l'analyse. Il pourrait être utile de les supprimer ou de les gérer.\n",
    "\n",
    "- Features redondantes : Certains datasets contiennent des variables très similaires (corrélées ou avec des valeurs presque identiques), comme dans abalone avec ses features de dimensions physiques qui pourraient être combinées ou réduites par PCA ou d'autres méthodes de réduction de dimensionnalité.\n",
    "\n",
    "  \n",
    "- Variabilité des échelles : Plusieurs datasets contiennent des variables avec des échelles très différentes (comme pageblocks ou sonar). Une normalisation ou standardisation peut être nécessaire pour améliorer les performances des modèles.\n",
    "\n",
    "\n",
    "Datasets de régression ou de classification :\n",
    "\n",
    "La majorité des datasets mentionnés ici sont des datasets de classification, avec une variable cible discrète (généralement binaire ou multiclasses). Par exemple, les datasets balance, bankmarketing, bupa, german, et pima sont tous utilisés pour des tâches de classification binaire.\n",
    "Toutefois, certains datasets peuvent potentiellement être utilisés pour des tâches de régression, comme autompg (régression sur la consommation de carburant), pageblocks (prédiction continue de certaines caractéristiques), ou abalone (prédiction de l'âge des abalone, qui peut être reformulé en tâche de régression)."
   ]
  },
  {
   "cell_type": "code",
   "execution_count": 8,
   "id": "b00740d6-0a92-4258-9ae8-d900b6da3f6c",
   "metadata": {},
   "source": [
    "X_abalone8, y_abalone8 = data_recovery(\"abalone8\")\n",
    "process_and_check_data(X_abalone8, y_abalone8)"
   ],
   "outputs": []
  },
  {
   "cell_type": "code",
   "execution_count": 10,
   "id": "c907994e-24ab-4e04-a5c7-1c39de4fe45c",
   "metadata": {},
   "source": [
    "X_abalone17, y_abalone17 = data_recovery(\"abalone17\")\n",
    "process_and_check_data(X_abalone17, y_abalone17)"
   ],
   "outputs": []
  },
  {
   "cell_type": "code",
   "execution_count": 12,
   "id": "c2ce3085-2e6e-4782-b21d-47b8a599ae7e",
   "metadata": {},
   "source": [
    "X_abalone20, y_abalone20 = data_recovery(\"abalone20\")\n",
    "process_and_check_data(X_abalone20, y_abalone20)"
   ],
   "outputs": []
  },
  {
   "cell_type": "code",
   "execution_count": 14,
   "id": "0dc74bd0-2b41-408c-ba7e-243022f9c7fe",
   "metadata": {},
   "source": [
    "X_autompg, y_autompg = data_recovery(\"autompg\")\n",
    "process_and_check_data(X_autompg, y_autompg)"
   ],
   "outputs": []
  },
  {
   "cell_type": "code",
   "execution_count": null,
   "id": "4d5df91f-239e-405f-b945-3cb93233f400",
   "metadata": {},
   "source": [
    "X_australian, y_australian = data_recovery(\"australian\")\n",
    "process_and_check_data(X_australian, y_australian)"
   ],
   "outputs": []
  },
  {
   "cell_type": "code",
   "execution_count": null,
   "id": "7f9e7c68-8a35-4102-85e2-bb41c9d758f7",
   "metadata": {},
   "source": [
    "X_balance, y_balance = data_recovery(\"balance\")\n",
    "process_and_check_data(X_balance, y_balance)"
   ],
   "outputs": []
  },
  {
   "cell_type": "code",
   "execution_count": null,
   "id": "444c1faa-c28e-45f7-9515-cfd336df72d1",
   "metadata": {},
   "source": [
    "X_bankmarketing, y_bankmarketing = data_recovery(\"bankmarketing\")\n",
    "process_and_check_data(X_bankmarketing, y_bankmarketing)"
   ],
   "outputs": []
  },
  {
   "cell_type": "code",
   "execution_count": null,
   "id": "a0c02565-847a-4451-b27f-f58aefb79905",
   "metadata": {},
   "source": [
    "X_bupa, y_bupa = data_recovery(\"bupa\")\n",
    "process_and_check_data(X_bupa, y_bupa)"
   ],
   "outputs": []
  },
  {
   "cell_type": "code",
   "execution_count": null,
   "id": "96981440-5408-4916-af0b-83331cc5e65a",
   "metadata": {},
   "source": [
    "X_german, y_german = data_recovery(\"german\")\n",
    "process_and_check_data(X_german, y_german)"
   ],
   "outputs": []
  },
  {
   "cell_type": "code",
   "execution_count": null,
   "id": "5b479aa4-7efa-48c9-9fcf-47dae5bf969f",
   "metadata": {},
   "source": [
    "X_glass, y_glass = data_recovery(\"glass\")\n",
    "process_and_check_data(X_glass, y_glass)"
   ],
   "outputs": []
  },
  {
   "cell_type": "code",
   "execution_count": null,
   "id": "dc6b98f0-b7b0-46c1-8ff7-9edfc710ac6c",
   "metadata": {},
   "source": [
    "X_hayes, y_hayes = data_recovery(\"hayes\")\n",
    "process_and_check_data(X_hayes, y_hayes)"
   ],
   "outputs": []
  },
  {
   "cell_type": "code",
   "execution_count": null,
   "id": "f0bd48b2-1e9e-4538-b438-12d0b4be6dad",
   "metadata": {},
   "source": [
    "X_heart, y_heart = data_recovery(\"heart\")\n",
    "process_and_check_data(X_heart, y_heart)"
   ],
   "outputs": []
  },
  {
   "cell_type": "code",
   "execution_count": null,
   "id": "5a4b6d42-285e-4d02-ac22-3c78eaa260a7",
   "metadata": {},
   "source": [
    "X_iono, y_iono = data_recovery(\"iono\")\n",
    "process_and_check_data(X_iono, y_iono)"
   ],
   "outputs": []
  },
  {
   "cell_type": "code",
   "execution_count": null,
   "id": "a5173a29-f939-4e46-9e9c-c8e398be51e2",
   "metadata": {},
   "source": [
    "X_libras, y_libras = data_recovery(\"libras\")\n",
    "process_and_check_data(X_libras, y_libras)"
   ],
   "outputs": []
  },
  {
   "cell_type": "code",
   "execution_count": null,
   "id": "b4f45e83-a0ac-45c6-bb26-979e50454a8f",
   "metadata": {},
   "source": [
    "X_newthyroid, y_newthyroid = data_recovery(\"newthyroid\")\n",
    "process_and_check_data(X_newthyroid, y_newthyroid)"
   ],
   "outputs": []
  },
  {
   "cell_type": "code",
   "execution_count": null,
   "id": "42ea66a1-fee5-4d00-94a3-bb97e2eabe5a",
   "metadata": {},
   "source": [
    "X_pageblocks, y_pageblocks = data_recovery(\"pageblocks\")\n",
    "process_and_check_data(X_pageblocks, y_pageblocks)"
   ],
   "outputs": []
  },
  {
   "cell_type": "code",
   "execution_count": null,
   "id": "9f1397a5-2f27-4468-872b-c306a32f87a4",
   "metadata": {},
   "source": [
    "X_pima, y_pima = data_recovery(\"pima\")\n",
    "process_and_check_data(X_pima, y_pima)"
   ],
   "outputs": []
  },
  {
   "cell_type": "code",
   "execution_count": null,
   "id": "13830334-65cf-4ff0-af23-453c40d87954",
   "metadata": {},
   "source": [
    "X_satimage, y_satimage = data_recovery(\"satimage\")\n",
    "process_and_check_data(X_satimage, y_satimage)"
   ],
   "outputs": []
  },
  {
   "cell_type": "code",
   "execution_count": null,
   "id": "c3a0448a-3a28-44d3-a36d-2512591f2430",
   "metadata": {},
   "source": [
    "X_segmentation, y_segmentation = data_recovery(\"segmentation\")\n",
    "process_and_check_data(X_segmentation, y_segmentation)"
   ],
   "outputs": []
  },
  {
   "cell_type": "code",
   "execution_count": null,
   "id": "75b82b4e-8852-4c75-a905-f52a44896dd9",
   "metadata": {},
   "source": [
    "X_sonar, y_sonar = data_recovery(\"sonar\")\n",
    "process_and_check_data(X_sonar, y_sonar)"
   ],
   "outputs": []
  },
  {
   "cell_type": "code",
   "execution_count": null,
   "id": "1d6868f8-2de0-4445-9e13-aeaf45371932",
   "metadata": {},
   "source": [
    "X_spambase, y_spambase = data_recovery(\"spambase\")\n",
    "process_and_check_data(X_spambase, y_spambase)"
   ],
   "outputs": []
  },
  {
   "cell_type": "code",
   "execution_count": null,
   "id": "4d54ad91-9abe-4c94-b640-4db2669e00c8",
   "metadata": {},
   "source": [
    "X_splice, y_splice = data_recovery(\"splice\")\n",
    "process_and_check_data(X_splice, y_splice)"
   ],
   "outputs": []
  },
  {
   "cell_type": "code",
   "execution_count": null,
   "id": "97cba96d-4f2b-4154-add3-044cea70618b",
   "metadata": {},
   "source": [
    "X_vehicle, y_vehicle = data_recovery(\"vehicle\")\n",
    "process_and_check_data(X_vehicle, y_vehicle)"
   ],
   "outputs": []
  },
  {
   "cell_type": "code",
   "execution_count": null,
   "id": "e819701c-7def-41fb-8b5b-9ddc24b8d1c7",
   "metadata": {},
   "source": [
    "X_wdbc, y_wdbc = data_recovery(\"wdbc\")\n",
    "process_and_check_data(X_wdbc, y_wdbc)"
   ],
   "outputs": []
  },
  {
   "cell_type": "code",
   "execution_count": null,
   "id": "d3b27efe-516b-4278-ac02-94ef6363aece",
   "metadata": {},
   "source": [
    "X_wine, y_wine = data_recovery(\"wine\")\n",
    "process_and_check_data(X_wine, y_wine)"
   ],
   "outputs": []
  },
  {
   "cell_type": "code",
   "execution_count": null,
   "id": "243d46d7-8470-4527-99ca-7b981cbb23a3",
   "metadata": {},
   "source": [
    "X_wine4, y_wine4 = data_recovery(\"wine4\")\n",
    "process_and_check_data(X_wine4, y_wine4)"
   ],
   "outputs": []
  },
  {
   "cell_type": "code",
   "execution_count": null,
   "id": "210e075a-f611-46f5-9e0d-7ed100541ca1",
   "metadata": {},
   "source": [
    "X_yeast3, y_yeast3 = data_recovery(\"yeast3\")\n",
    "process_and_check_data(X_yeast3, y_yeast3)"
   ],
   "outputs": []
  },
  {
   "cell_type": "code",
   "execution_count": null,
   "id": "8c82e7d5-9377-4a0a-8d13-98a17515f0bd",
   "metadata": {},
   "source": [
    "X_yeast6, y_yeast6 = data_recovery(\"yeast6\")\n",
    "process_and_check_data(X_yeast6, y_yeast6)"
   ],
   "outputs": []
  },
  {
   "cell_type": "code",
   "execution_count": null,
   "id": "7232025e-937e-4b0b-a50f-633bbcef8065",
   "metadata": {},
   "source": [],
   "outputs": []
  },
  {
   "cell_type": "code",
   "execution_count": null,
   "id": "1e685b67-b273-4450-8619-052141a1a984",
   "metadata": {},
   "source": [],
   "outputs": []
  },
  {
   "cell_type": "code",
   "execution_count": null,
   "id": "920d8b7a-9e05-4e38-8013-ea23282c266a",
   "metadata": {},
   "source": [],
   "outputs": []
  },
  {
   "cell_type": "code",
   "execution_count": null,
   "id": "376b47a7-5063-48dc-b58c-ac830033d6c6",
   "metadata": {},
   "source": [],
   "outputs": []
  }
 ],
 "metadata": {
  "kernelspec": {
   "display_name": "Python 3 (ipykernel)",
   "language": "python",
   "name": "python3"
  },
  "language_info": {
   "codemirror_mode": {
    "name": "ipython",
    "version": 3
   },
   "file_extension": ".py",
   "mimetype": "text/x-python",
   "name": "python",
   "nbconvert_exporter": "python",
   "pygments_lexer": "ipython3",
   "version": "3.12.3"
  }
 },
 "nbformat": 4,
 "nbformat_minor": 5
}
